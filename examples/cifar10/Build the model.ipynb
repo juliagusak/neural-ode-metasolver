{
 "cells": [
  {
   "cell_type": "code",
   "execution_count": 11,
   "metadata": {},
   "outputs": [],
   "source": [
    "import argparse\n",
    "import copy\n",
    "import sys\n",
    "\n",
    "sys.path.append('../../')\n",
    "import sopa.src.models.odenet_cifar10.layers as cifar10_models\n",
    "from sopa.src.models.odenet_cifar10.utils import *"
   ]
  },
  {
   "cell_type": "code",
   "execution_count": 12,
   "metadata": {},
   "outputs": [],
   "source": [
    "parser = argparse.ArgumentParser()\n",
    "# Architecture params\n",
    "parser.add_argument('--is_odenet', type=eval, default=True, choices=[True, False])\n",
    "parser.add_argument('--network', type=str, choices=['metanode34', 'metanode18', 'metanode10', 'metanode6', 'metanode4',\n",
    "                                                    'premetanode34', 'premetanode18', 'premetanode10', 'premetanode6',\n",
    "                                                    'premetanode4'],\n",
    "                    default='premetanode10')\n",
    "parser.add_argument('--in_planes', type=int, default=64)\n",
    "\n",
    "# Type of layer's output normalization\n",
    "parser.add_argument('--normalization_resblock', type=str, default='NF',\n",
    "                    choices=['BN', 'GN', 'LN', 'IN', 'NF'])\n",
    "parser.add_argument('--normalization_odeblock', type=str, default='NF',\n",
    "                    choices=['BN', 'GN', 'LN', 'IN', 'NF'])\n",
    "parser.add_argument('--normalization_bn1', type=str, default='NF',\n",
    "                    choices=['BN', 'GN', 'LN', 'IN', 'NF'])\n",
    "parser.add_argument('--num_gn_groups', type=int, default=32, help='Number of groups for GN normalization')\n",
    "\n",
    "# Type of layer's weights  normalization\n",
    "parser.add_argument('--param_normalization_resblock', type=str, default='PNF',\n",
    "                    choices=['WN', 'SN', 'PNF'])\n",
    "parser.add_argument('--param_normalization_odeblock', type=str, default='PNF',\n",
    "                    choices=['WN', 'SN', 'PNF'])\n",
    "parser.add_argument('--param_normalization_bn1', type=str, default='PNF',\n",
    "                    choices=['WN', 'SN', 'PNF'])\n",
    "# Type of activation\n",
    "parser.add_argument('--activation_resblock', type=str, default='ReLU',\n",
    "                    choices=['ReLU', 'GeLU', 'Softsign', 'Tanh', 'AF'])\n",
    "parser.add_argument('--activation_odeblock', type=str, default='ReLU',\n",
    "                    choices=['ReLU', 'GeLU', 'Softsign', 'Tanh', 'AF'])\n",
    "parser.add_argument('--activation_bn1', type=str, default='ReLU',\n",
    "                    choices=['ReLU', 'GeLU', 'Softsign', 'Tanh', 'AF'])\n",
    "\n",
    "args, unknown_args = parser.parse_known_args()"
   ]
  },
  {
   "cell_type": "code",
   "execution_count": 13,
   "metadata": {},
   "outputs": [],
   "source": [
    "# Initialize Neural ODE model\n",
    "config = copy.deepcopy(args)\n",
    "\n",
    "norm_layers = (get_normalization(config.normalization_resblock),\n",
    "               get_normalization(config.normalization_odeblock),\n",
    "               get_normalization(config.normalization_bn1))\n",
    "param_norm_layers = (get_param_normalization(config.param_normalization_resblock),\n",
    "                     get_param_normalization(config.param_normalization_odeblock),\n",
    "                     get_param_normalization(config.param_normalization_bn1))\n",
    "act_layers = (get_activation(config.activation_resblock),\n",
    "              get_activation(config.activation_odeblock),\n",
    "              get_activation(config.activation_bn1))\n",
    "\n",
    "model = getattr(cifar10_models, config.network)(norm_layers, param_norm_layers, act_layers,\n",
    "                                                config.in_planes, is_odenet=config.is_odenet)"
   ]
  },
  {
   "cell_type": "code",
   "execution_count": 14,
   "metadata": {},
   "outputs": [
    {
     "data": {
      "text/plain": [
       "MetaNODE(\n",
       "  (conv1): Conv2d(3, 64, kernel_size=(3, 3), stride=(1, 1), padding=(1, 1), bias=False)\n",
       "  (bn1): Identity()\n",
       "  (layer1): MetaLayer(\n",
       "    (blocks_res): Sequential(\n",
       "      (0): PreBasicBlock(\n",
       "        (bn1): Identity()\n",
       "        (conv1): Conv2d(64, 64, kernel_size=(3, 3), stride=(1, 1), padding=(1, 1), bias=False)\n",
       "        (bn2): Identity()\n",
       "        (conv2): Conv2d(64, 64, kernel_size=(3, 3), stride=(1, 1), padding=(1, 1), bias=False)\n",
       "        (shortcut): Sequential()\n",
       "      )\n",
       "    )\n",
       "    (blocks_ode): ModuleList(\n",
       "      (0): MetaODEBlock(\n",
       "        (rhs_func): PreBasicBlock2(\n",
       "          (bn1): Identity()\n",
       "          (conv1): Conv2d(64, 64, kernel_size=(3, 3), stride=(1, 1), padding=(1, 1), bias=False)\n",
       "          (bn2): Identity()\n",
       "          (conv2): Conv2d(64, 64, kernel_size=(3, 3), stride=(1, 1), padding=(1, 1), bias=False)\n",
       "          (shortcut): Sequential()\n",
       "        )\n",
       "      )\n",
       "    )\n",
       "  )\n",
       "  (layer2): MetaLayer(\n",
       "    (blocks_res): Sequential(\n",
       "      (0): PreBasicBlock(\n",
       "        (bn1): Identity()\n",
       "        (conv1): Conv2d(64, 128, kernel_size=(3, 3), stride=(2, 2), padding=(1, 1), bias=False)\n",
       "        (bn2): Identity()\n",
       "        (conv2): Conv2d(128, 128, kernel_size=(3, 3), stride=(1, 1), padding=(1, 1), bias=False)\n",
       "        (shortcut): Sequential(\n",
       "          (0): Conv2d(64, 128, kernel_size=(1, 1), stride=(2, 2), bias=False)\n",
       "        )\n",
       "      )\n",
       "    )\n",
       "    (blocks_ode): ModuleList(\n",
       "      (0): MetaODEBlock(\n",
       "        (rhs_func): PreBasicBlock2(\n",
       "          (bn1): Identity()\n",
       "          (conv1): Conv2d(128, 128, kernel_size=(3, 3), stride=(1, 1), padding=(1, 1), bias=False)\n",
       "          (bn2): Identity()\n",
       "          (conv2): Conv2d(128, 128, kernel_size=(3, 3), stride=(1, 1), padding=(1, 1), bias=False)\n",
       "          (shortcut): Sequential()\n",
       "        )\n",
       "      )\n",
       "    )\n",
       "  )\n",
       "  (fc_layers): Sequential(\n",
       "    (0): AdaptiveAvgPool2d(output_size=(1, 1))\n",
       "    (1): Flatten()\n",
       "    (2): Linear(in_features=128, out_features=10, bias=True)\n",
       "  )\n",
       ")"
      ]
     },
     "execution_count": 14,
     "metadata": {},
     "output_type": "execute_result"
    }
   ],
   "source": [
    "model"
   ]
  },
  {
   "cell_type": "code",
   "execution_count": null,
   "metadata": {},
   "outputs": [],
   "source": []
  }
 ],
 "metadata": {
  "kernelspec": {
   "display_name": "Python 3",
   "language": "python",
   "name": "python3"
  },
  "language_info": {
   "codemirror_mode": {
    "name": "ipython",
    "version": 3
   },
   "file_extension": ".py",
   "mimetype": "text/x-python",
   "name": "python",
   "nbconvert_exporter": "python",
   "pygments_lexer": "ipython3",
   "version": "3.6.8"
  }
 },
 "nbformat": 4,
 "nbformat_minor": 2
}
